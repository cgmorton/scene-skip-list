{
 "cells": [
  {
   "cell_type": "code",
   "execution_count": null,
   "id": "a9788205-5248-410d-95ac-ea84b1ed2946",
   "metadata": {},
   "outputs": [],
   "source": [
    "import collections\n",
    "import os\n",
    "import pprint\n",
    "\n",
    "import ee\n",
    "import pandas as pd\n",
    "\n",
    "# from IPython.display import Image, display"
   ]
  },
  {
   "cell_type": "code",
   "execution_count": null,
   "id": "29f14ca0-a294-4207-aca2-9874c0c7215f",
   "metadata": {},
   "outputs": [],
   "source": [
    "ee.Initialize(\n",
    "    project='ee-cmorton',\n",
    "    opt_url='https://earthengine-highvolume.googleapis.com'\n",
    ")"
   ]
  },
  {
   "cell_type": "code",
   "execution_count": null,
   "id": "14c19293-cd3f-46a2-8ed3-ec188067456f",
   "metadata": {},
   "outputs": [],
   "source": [
    "# Remove existing images that are in the skip list\n",
    "scene_skip_url = 'https://raw.githubusercontent.com/cgmorton/scene-skip-list/main/v2p1.csv'\n",
    "# scene_skip_url = 'https://raw.githubusercontent.com/cgmorton/scene-skip-list/main/v2p1_cloudscore.csv'\n",
    "scene_skip_list = list(pd.read_csv(scene_skip_url)['SCENE_ID'].values)\n",
    "print(f'Skip list images: {len(scene_skip_list)}')\n",
    "\n",
    "collections = [\n",
    "    'projects/openet/assets/disalexi/landsat/c02',\n",
    "    'projects/openet/assets/eemetric/conus/gridmet/landsat/c02',\n",
    "    'projects/openet/assets/geesebal/conus/gridmet/landsat/c02',\n",
    "    'projects/openet/assets/ptjpl/conus/gridmet/landsat/c02',\n",
    "    'projects/openet/assets/sims/conus/gridmet/landsat/c02',\n",
    "    'projects/openet/assets/sims/california/cimis/landsat/c02',\n",
    "    'projects/openet/assets/ssebop/conus/gridmet/landsat/c02',\n",
    "    'projects/openet/assets/ensemble/conus/gridmet/landsat/c02',\n",
    "]\n",
    "\n",
    "for coll_id in collections:\n",
    "    print(f'\\n{coll_id}')\n",
    "    scene_id_list = set(\n",
    "        ee.ImageCollection(coll_id)\n",
    "        # .filterDate('2022-09-01', '2025-01-01')\n",
    "        # .filterBounds(ee.Geometry.BBox(-90, 25, -65, 50))\n",
    "        .aggregate_array('system:index').getInfo()\n",
    "    )\n",
    "    print(f'  Images: {len(scene_id_list)}')\n",
    "\n",
    "    for scene_id in sorted(scene_skip_list, reverse=True):\n",
    "        # print(scene_id)\n",
    "        if scene_id.lower() in scene_id_list:\n",
    "            image_id = f'{coll_id}/{scene_id.lower()}'\n",
    "            print(f'Delete {image_id}')\n",
    "            try:\n",
    "                ee.data.deleteAsset(image_id)\n",
    "            except:\n",
    "                print('  could not delete asset, skipping')\n",
    "                continue\n",
    "\n",
    "print('\\nDone')"
   ]
  },
  {
   "cell_type": "code",
   "execution_count": null,
   "id": "a38ad78e-4820-41e5-9325-57891043266d",
   "metadata": {
    "editable": true,
    "slideshow": {
     "slide_type": ""
    },
    "tags": []
   },
   "outputs": [],
   "source": []
  },
  {
   "cell_type": "code",
   "execution_count": null,
   "id": "7e7ac745-7a86-4498-a598-8d6ea570d9ed",
   "metadata": {},
   "outputs": [],
   "source": [
    "# # Remove existing EEMETRIC images that are in the skip list\n",
    "# scene_skip_url = 'https://raw.githubusercontent.com/cgmorton/scene-skip-list/main/v2p1_eemetric.csv'\n",
    "# scene_skip_list = list(pd.read_csv(scene_skip_url)['SCENE_ID'].values)\n",
    "# print(f'Skip list images: {len(scene_skip_list)}')\n",
    "\n",
    "# collections = [\n",
    "#     'projects/openet/assets/eemetric/conus/gridmet/landsat/c02',\n",
    "#     # 'projects/openet/assets/eemetric/california/cimis/landsat/c02',\n",
    "# ]\n",
    "\n",
    "# for coll_id in collections:\n",
    "#     print(f'\\n{coll_id}')\n",
    "#     scene_id_list = set(list(\n",
    "#         ee.ImageCollection(coll_id)\n",
    "#         # .filterDate('2015-11-01', '2025-01-01')\n",
    "#         .aggregate_array('system:index').getInfo()\n",
    "#     ))\n",
    "#     print(f'  Images: {len(scene_id_list)}')\n",
    "\n",
    "#     for scene_id in scene_skip_list:\n",
    "#         # print(scene_id)\n",
    "#         if scene_id.lower() in scene_id_list:\n",
    "#             image_id = f'{coll_id}/{scene_id.lower()}'\n",
    "#             print(f'Delete {image_id}')\n",
    "#             try:\n",
    "#                 ee.data.deleteAsset(image_id)\n",
    "#             except:\n",
    "#                 print('  could not delete asset, skipping')\n",
    "#                 continue\n",
    "\n",
    "# print('\\nDone')"
   ]
  },
  {
   "cell_type": "code",
   "execution_count": null,
   "id": "3b528027-3134-48ac-b391-17c7a055be28",
   "metadata": {},
   "outputs": [],
   "source": []
  }
 ],
 "metadata": {
  "kernelspec": {
   "display_name": "Python 3 (ipykernel)",
   "language": "python",
   "name": "python3"
  },
  "language_info": {
   "codemirror_mode": {
    "name": "ipython",
    "version": 3
   },
   "file_extension": ".py",
   "mimetype": "text/x-python",
   "name": "python",
   "nbconvert_exporter": "python",
   "pygments_lexer": "ipython3",
   "version": "3.11.9"
  }
 },
 "nbformat": 4,
 "nbformat_minor": 5
}
